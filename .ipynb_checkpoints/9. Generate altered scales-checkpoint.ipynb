{
 "metadata": {
  "name": "",
  "signature": "sha256:aad908908ccbcef3bccfeeefc274a0ebcbc53974c0e4b1c225ffa999c325d719"
 },
 "nbformat": 3,
 "nbformat_minor": 0,
 "worksheets": [
  {
   "cells": [
    {
     "cell_type": "markdown",
     "metadata": {},
     "source": [
      "The goal of this notebook is to generate the altered scales. That is, for the C altered scale, you\n",
      "want to implement a function generate the notes (only for octave 3 and above, since only predicting for\n",
      "melody notes with octave > 3)\n",
      "\n",
      "[C3 D-3 E-3 F-3 (or E?) G-3 A-3 B-3 C4 D-4 E-4 ...]\n",
      "\n",
      "This notebook isn't meant to have input or output for other files -- here you just want to brainstorm the function so you can put it in Predictive Chord Modeling."
     ]
    },
    {
     "cell_type": "code",
     "collapsed": false,
     "input": [
      "# Generates the altered scale starting on a given note (music21 style).\n",
      "def genAltered(note='C5'):\n",
      "    alteredscale = [note]"
     ],
     "language": "python",
     "metadata": {},
     "outputs": []
    }
   ],
   "metadata": {}
  }
 ]
}