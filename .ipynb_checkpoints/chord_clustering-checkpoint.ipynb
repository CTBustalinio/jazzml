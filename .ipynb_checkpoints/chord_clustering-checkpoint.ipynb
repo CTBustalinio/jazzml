{
 "metadata": {
  "name": "",
  "signature": "sha256:85d68131db3dd2cf1639493e4f361532451859080272c39eba19304cd38dd6d7"
 },
 "nbformat": 3,
 "nbformat_minor": 0,
 "worksheets": [
  {
   "cells": [
    {
     "cell_type": "markdown",
     "metadata": {},
     "source": [
      "In this iPython notebook, you'll cluster notes based on offset and pitch."
     ]
    },
    {
     "cell_type": "code",
     "collapsed": false,
     "input": [
      "from collections import Counter, defaultdict\n",
      "from sklearn.cluster import KMeans\n",
      "import pandas as pd\n",
      "import numpy as np\n",
      "import sys\n",
      "sys.path.append('C:/Python27/Lib/site-packages')"
     ],
     "language": "python",
     "metadata": {},
     "outputs": [],
     "prompt_number": 4
    },
    {
     "cell_type": "code",
     "collapsed": false,
     "input": [
      "# Import and order rows.\n",
      "alice = pd.read_csv('alice.txt', skiprows=2)[:50].sort(\"Offset\")\n",
      "alice.index = xrange(1, len(alice) + 1)\n",
      "# alice = alice[alice.Octave < 4] # threshold >= octave 4 for melodies\n",
      "with open('alice.txt', 'rb') as f:\n",
      "    metmark = float(f.readline())\n",
      "    tsig_num, tsig_den = [i for i in f.readline().replace(' /', '').split()]\n",
      "    \n",
      "print \"Metrics:\"\n",
      "print metmark, tsig_num, tsig_den, len(alice)\n",
      "print alice"
     ],
     "language": "python",
     "metadata": {},
     "outputs": [
      {
       "output_type": "stream",
       "stream": "stdout",
       "text": [
        "Metrics:\n",
        "145.0 3 4 50\n",
        "   Note/Rest  Octave       Len     Offset\n",
        "1          G       5  2.625000   0.000000\n",
        "2          C       5  0.250000   8.625000\n",
        "3          F       2  1.875000   9.000000\n",
        "4          C       3  0.125000  11.625000\n",
        "5          D       4  1.000000  12.000000\n",
        "6          E       4  0.125000  13.000000\n",
        "7          F       4  0.750000  14.000000\n",
        "8          E       2  0.125000  14.875000\n",
        "9          E       4  0.125000  15.000000\n",
        "10         G       5  0.375000  15.625000\n",
        "11         D       4  1.000000  16.000000\n",
        "12         G       5  0.125000  17.125000\n",
        "13         C       6  0.125000  17.500000\n",
        "14         E       6  0.250000  17.750000\n",
        "15         G       6  0.750000  18.125000\n",
        "16         E       6  0.125000  19.000000\n",
        "17         C       6  0.625000  19.666667\n",
        "18         G       3  0.125000  20.750000\n",
        "19         G       3  2.125000  21.125000\n",
        "20         F       4  1.250000  24.000000\n",
        "21         D       5  0.125000  26.375000\n",
        "22         E       5  0.250000  26.666667\n",
        "23         F       5  0.375000  27.000000\n",
        "24         D       5  0.250000  29.666667\n",
        "25         G       5  0.250000  36.000000\n",
        "26        E-       4  0.250000  36.500000\n",
        "27         D       4  0.375000  37.000000\n",
        "28        C#       4  0.333333  37.500000\n",
        "29         E       5  0.250000  37.875000\n",
        "30         F       4  0.125000  45.250000\n",
        "31        C#       4  0.625000  45.625000\n",
        "32         E       4  1.125000  48.000000\n",
        "33        E-       4  1.375000  51.000000\n",
        "34         C       2  1.375000  54.000000\n",
        "35         G       5  1.250000  58.750000\n",
        "36         D       5  0.625000  60.125000\n",
        "37         E       5  0.125000  60.750000\n",
        "38         F       5  0.875000  61.000000\n",
        "39         E       5  0.625000  62.000000\n",
        "40         D       5  0.125000  62.666667\n",
        "41         G       3  2.333333  66.000000\n",
        "42         B       4  0.250000  68.666667\n",
        "43         G       3  2.375000  69.000000\n",
        "44         D       6  0.125000  71.625000\n",
        "45         D       3  2.500000  71.875000\n",
        "46         E       4  0.500000  76.000000\n",
        "47         B       3  0.333333  76.875000\n",
        "48         B       3  0.125000  77.500000\n",
        "49        F#       4  0.333333  84.625000\n",
        "50         E       4  0.333333  85.625000\n",
        "\n",
        "[50 rows x 4 columns]\n"
       ]
      }
     ],
     "prompt_number": 9
    },
    {
     "cell_type": "code",
     "collapsed": false,
     "input": [],
     "language": "python",
     "metadata": {},
     "outputs": []
    }
   ],
   "metadata": {}
  }
 ]
}