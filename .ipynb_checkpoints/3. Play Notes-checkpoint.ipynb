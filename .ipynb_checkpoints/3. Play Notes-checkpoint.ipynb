{
 "metadata": {
  "name": "",
  "signature": "sha256:d83ce8988e4affb629fed1657d52c530c97ece153e045941e14659a5c150f8c1"
 },
 "nbformat": 3,
 "nbformat_minor": 0,
 "worksheets": [
  {
   "cells": [
    {
     "cell_type": "markdown",
     "metadata": {},
     "source": [
      "This notebook takes a txt file where each line is of the form (\"%s,%s\" % (G5,1.25)) and plays it to stdout.\n",
      "\n",
      "IMPORTANT:<br>\n",
      "<b>This is an independent client that doesn't create output to be piped into the other programs. It just relies on 2. N-Gram. Also, this takes only notes in the input file and not chords.</b>\n",
      "\n",
      "NOTE: You need to write a function to convert a music21 length to a mingus length, given the time signature.\n",
      "\n",
      "Dependencies:\n",
      "\n",
      "--2. N-Gram"
     ]
    },
    {
     "cell_type": "code",
     "collapsed": false,
     "input": [
      "import sys, time, re\n",
      "import music21\n",
      "import mingus.core.notes as notes\n",
      "import mingus.core.value as value\n",
      "sys.path.append('/usr/local/lib/python2.7/dist-packages/fluidsynth/')\n",
      "from mingus.midi import fluidsynth\n",
      "from mingus.containers.Note import Note\n",
      "from mingus.containers.Bar import Bar\n",
      "fluidsynth.init('/usr/share/sounds/sf2/FluidR3_GM.sf2',\"alsa\")"
     ],
     "language": "python",
     "metadata": {},
     "outputs": [
      {
       "metadata": {},
       "output_type": "pyout",
       "prompt_number": 5,
       "text": [
        "True"
       ]
      }
     ],
     "prompt_number": 5
    },
    {
     "cell_type": "code",
     "collapsed": false,
     "input": [
      "# Convert music21 note to mingus note.\n",
      "def mingify(note):\n",
      "    accidental = re.compile(\"[A-Z](-|#)[0-9]\")\n",
      "    if accidental.match(note):\n",
      "        if '-' not in note: note = Note(\"%s%s-%s\" % (note[0], note[1], note[2]))\n",
      "        else: note = Note(note.replace('-', 'b-'))\n",
      "    else: note = Note(\"%s-%s\" % (note[0], note[1]))\n",
      "    return note\n",
      "    \n",
      "# Get the notes. Note that you need to convert \"E-\" to \"Eb\" since you're converting music21 to mingus.\n",
      "with open('oscar2ngrams.txt', 'rb') as f:\n",
      "    allnotes = [] # list of Note objects\n",
      "    alldurations = []\n",
      "    for line in f:\n",
      "        items = line.split(',')\n",
      "        note = items[0].rstrip()\n",
      "        allnotes.append(mingify(note))\n",
      "        alldurations.append(float(items[1]))\n",
      "\n",
      "# Get the durations. \n",
      "# print allnotes\n",
      "# print alldurations\n",
      "print len(allnotes)\n",
      "print sum(alldurations)"
     ],
     "language": "python",
     "metadata": {},
     "outputs": [
      {
       "output_type": "stream",
       "stream": "stdout",
       "text": [
        "490\n",
        "275.25\n"
       ]
      }
     ],
     "prompt_number": 20
    },
    {
     "cell_type": "code",
     "collapsed": false,
     "input": [
      "# Put notes into one huge bar.\n",
      "b = Bar()\n",
      "b.set_meter((len(allnotes) * 4, 4))\n",
      "for note in allnotes:\n",
      "    b.place_notes(note, value.eighth)\n",
      "print len(b)\n",
      "fluidsynth.play_Bar(b, 1, 375)"
     ],
     "language": "python",
     "metadata": {},
     "outputs": [
      {
       "output_type": "stream",
       "stream": "stdout",
       "text": [
        "490\n"
       ]
      },
      {
       "metadata": {},
       "output_type": "pyout",
       "prompt_number": 21,
       "text": [
        "{'bpm': 375}"
       ]
      }
     ],
     "prompt_number": 21
    },
    {
     "cell_type": "code",
     "collapsed": false,
     "input": [
      "# You really should keep rhythm within clusters consistent (either straight eighths or alternating between\n",
      "# long/short to get that 'swung' feel)."
     ],
     "language": "python",
     "metadata": {},
     "outputs": [],
     "prompt_number": 4
    }
   ],
   "metadata": {}
  }
 ]
}