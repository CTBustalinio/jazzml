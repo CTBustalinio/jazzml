{
 "metadata": {
  "name": ""
 },
 "nbformat": 3,
 "nbformat_minor": 0,
 "worksheets": [
  {
   "cells": [
    {
     "cell_type": "heading",
     "level": 3,
     "metadata": {},
     "source": [
      "I. Statistical Jazz Improvisation: Basic N-Gram Modeling w/MIDI data"
     ]
    },
    {
     "cell_type": "markdown",
     "metadata": {},
     "source": [
      "First, import the MIDI data!"
     ]
    },
    {
     "cell_type": "code",
     "collapsed": false,
     "input": [
      "from collections import Counter, defaultdict\n",
      "import pandas as pd\n",
      "import numpy as np\n",
      "import sys"
     ],
     "language": "python",
     "metadata": {},
     "outputs": [],
     "prompt_number": 20
    },
    {
     "cell_type": "code",
     "collapsed": false,
     "input": [
      "# Import and order rows.\n",
      "alice = pd.read_csv('alice.txt', skiprows=2)[:200].sort(\"Offset\")\n",
      "alice.index = xrange(1, len(alice) + 1)\n",
      "with open('alice.txt', 'rb') as f:\n",
      "    metmark = float(f.readline())\n",
      "    tsig_num, tsig_den = [i for i in f.readline().replace(' /', '').split()]"
     ],
     "language": "python",
     "metadata": {},
     "outputs": [],
     "prompt_number": 21
    },
    {
     "cell_type": "code",
     "collapsed": false,
     "input": [
      "metmark, tsig_num, tsig_den, len(alice)"
     ],
     "language": "python",
     "metadata": {},
     "outputs": [
      {
       "metadata": {},
       "output_type": "pyout",
       "prompt_number": 22,
       "text": [
        "(145.0, '3', '4', 200)"
       ]
      }
     ],
     "prompt_number": 22
    },
    {
     "cell_type": "code",
     "collapsed": false,
     "input": [
      "alice.head(10)"
     ],
     "language": "python",
     "metadata": {},
     "outputs": [
      {
       "html": [
        "<div style=\"max-height:1000px;max-width:1500px;overflow:auto;\">\n",
        "<table border=\"1\" class=\"dataframe\">\n",
        "  <thead>\n",
        "    <tr style=\"text-align: right;\">\n",
        "      <th></th>\n",
        "      <th>Note/Rest</th>\n",
        "      <th>Octave</th>\n",
        "      <th>Len</th>\n",
        "      <th>Offset</th>\n",
        "    </tr>\n",
        "  </thead>\n",
        "  <tbody>\n",
        "    <tr>\n",
        "      <th>1 </th>\n",
        "      <td> G</td>\n",
        "      <td> 5</td>\n",
        "      <td> 2.625</td>\n",
        "      <td>  0.000</td>\n",
        "    </tr>\n",
        "    <tr>\n",
        "      <th>2 </th>\n",
        "      <td> C</td>\n",
        "      <td> 5</td>\n",
        "      <td> 0.250</td>\n",
        "      <td>  8.625</td>\n",
        "    </tr>\n",
        "    <tr>\n",
        "      <th>3 </th>\n",
        "      <td> F</td>\n",
        "      <td> 2</td>\n",
        "      <td> 1.875</td>\n",
        "      <td>  9.000</td>\n",
        "    </tr>\n",
        "    <tr>\n",
        "      <th>4 </th>\n",
        "      <td> C</td>\n",
        "      <td> 3</td>\n",
        "      <td> 0.125</td>\n",
        "      <td> 11.625</td>\n",
        "    </tr>\n",
        "    <tr>\n",
        "      <th>5 </th>\n",
        "      <td> D</td>\n",
        "      <td> 4</td>\n",
        "      <td> 1.000</td>\n",
        "      <td> 12.000</td>\n",
        "    </tr>\n",
        "    <tr>\n",
        "      <th>6 </th>\n",
        "      <td> E</td>\n",
        "      <td> 4</td>\n",
        "      <td> 0.125</td>\n",
        "      <td> 13.000</td>\n",
        "    </tr>\n",
        "    <tr>\n",
        "      <th>7 </th>\n",
        "      <td> F</td>\n",
        "      <td> 4</td>\n",
        "      <td> 0.750</td>\n",
        "      <td> 14.000</td>\n",
        "    </tr>\n",
        "    <tr>\n",
        "      <th>8 </th>\n",
        "      <td> E</td>\n",
        "      <td> 2</td>\n",
        "      <td> 0.125</td>\n",
        "      <td> 14.875</td>\n",
        "    </tr>\n",
        "    <tr>\n",
        "      <th>9 </th>\n",
        "      <td> E</td>\n",
        "      <td> 4</td>\n",
        "      <td> 0.125</td>\n",
        "      <td> 15.000</td>\n",
        "    </tr>\n",
        "    <tr>\n",
        "      <th>10</th>\n",
        "      <td> G</td>\n",
        "      <td> 5</td>\n",
        "      <td> 0.375</td>\n",
        "      <td> 15.625</td>\n",
        "    </tr>\n",
        "  </tbody>\n",
        "</table>\n",
        "<p>10 rows \u00d7 4 columns</p>\n",
        "</div>"
       ],
       "metadata": {},
       "output_type": "pyout",
       "prompt_number": 23,
       "text": [
        "   Note/Rest  Octave    Len  Offset\n",
        "1          G       5  2.625   0.000\n",
        "2          C       5  0.250   8.625\n",
        "3          F       2  1.875   9.000\n",
        "4          C       3  0.125  11.625\n",
        "5          D       4  1.000  12.000\n",
        "6          E       4  0.125  13.000\n",
        "7          F       4  0.750  14.000\n",
        "8          E       2  0.125  14.875\n",
        "9          E       4  0.125  15.000\n",
        "10         G       5  0.375  15.625\n",
        "\n",
        "[10 rows x 4 columns]"
       ]
      }
     ],
     "prompt_number": 23
    },
    {
     "cell_type": "code",
     "collapsed": false,
     "input": [
      "# convert to bitwise note dataframe\n",
      "# Iterates over rows, where each element in the iterable is twofold: \n",
      "# element[0] = the index, element[1] = the note object\n",
      "possiblenotes = [\"%s%s\" % (row[1][\"Note/Rest\"], row[1][\"Octave\"]) for row in alice.iterrows()]\n",
      "possiblenotes.insert(0, \"start\")\n",
      "possiblenotes.insert(0, \"start\")\n",
      "possiblenotes.insert(0, \"start\")\n",
      "print possiblenotes[:50]"
     ],
     "language": "python",
     "metadata": {},
     "outputs": [
      {
       "output_type": "stream",
       "stream": "stdout",
       "text": [
        "['start', 'start', 'start', 'G5', 'C5', 'F2', 'C3', 'D4', 'E4', 'F4', 'E2', 'E4', 'G5', 'D4', 'G5', 'C6', 'E6', 'G6', 'E6', 'C6', 'G3', 'G3', 'F4', 'D5', 'E5', 'F5', 'D5', 'G5', 'E-4', 'D4', 'C#4', 'E5', 'F4', 'C#4', 'E4', 'E-4', 'C2', 'G5', 'D5', 'E5', 'F5', 'E5', 'D5', 'G3', 'B4', 'G3', 'D6', 'D3', 'E4', 'B3']\n"
       ]
      }
     ],
     "prompt_number": 24
    },
    {
     "cell_type": "code",
     "collapsed": false,
     "input": [
      "# Iterate over a list in chunks of size n. Return tuples (for dict).\n",
      "def chunks(iterable, n):\n",
      "    for ix, item in enumerate(iterable):\n",
      "        if ix == len(iterable) - (n-1): return\n",
      "        yield tuple(iterable[ix:ix+n])\n",
      "\n",
      "# Get the individual trigram and quadgram frequencies in linear time.\n",
      "# Need unigrams and bigrams for denominator of probabilities.\n",
      "unigramfreqs = defaultdict(int)\n",
      "for i in chunks(possiblenotes, 1):\n",
      "    unigramfreqs[i] += 1\n",
      "bigramfreqs = defaultdict(int)\n",
      "for i in chunks(possiblenotes, 2):\n",
      "    bigramfreqs[i] += 1\n",
      "trigramfreqs = defaultdict(int)\n",
      "for i in chunks(possiblenotes, 3):\n",
      "    trigramfreqs[i] += 1\n",
      "quadgramfreqs = defaultdict(int)\n",
      "for i in chunks(possiblenotes, 4):\n",
      "    quadgramfreqs[i] += 1\n",
      "\n",
      "# Print out for debugging\n",
      "# for k in sorted(trigramfreqs, key=trigramfreqs.get, reverse=True):\n",
      "#     print k, trigramfreqs[k]"
     ],
     "language": "python",
     "metadata": {},
     "outputs": [],
     "prompt_number": 25
    },
    {
     "cell_type": "markdown",
     "metadata": {},
     "source": [
      "Now that we have the frequencies, we can build the ngram dictionaries based on the following probability model:\n",
      "\n",
      "$P(w_i|w_i-2\\:w_i-1)=\\frac{f(w_i-2\\:w_i-1\\:w)}{f(w_i-2\\:w_i-1)}$\n",
      "\n",
      "The above model is for trigrams, and is unsmoothed. Smoothing will come later if necessary -- remember that\n",
      "this isn't the most complex machine learning model so far."
     ]
    },
    {
     "cell_type": "code",
     "collapsed": false,
     "input": [
      "# Convert trigram, quadgram freqs to probability lookup table.\n",
      "# triprobs: P(tuple(char, prev. bigram)) = f(trigram) / f(prev. bigram)\n",
      "# To look up something in the triprobs dictionary:\n",
      "# say you have sequence \"c5 e5\" and you want to know what to generate next\n",
      "# you want to find probabilities of \"c5 e5 g5\" and \"c5 e5 f5\"\n",
      "# say thing = 'g5'\n",
      "# say prevbigram = ('c5','e5')\n",
      "# so for the first one enter triprobs[(thing,prevbigram)] --> you'll get the probability\n",
      "# Second defaultdict: lookup by the previous bigram, see about possible chars to follow (to generate) w/probs.\n",
      "# I.e. another way of expressing P(w | w-2 w-1).\n",
      "# for key (prev n-1 gram) you get the possible things that follow it w/probs. [(possible1, weight), (possible2, weight2), ...]\n",
      "# Prevents default dict from being overwritten.\n",
      "\n",
      "def condProbTables(ngramfreqs, nngramfreqs):\n",
      "    nprobs = defaultdict(int)\n",
      "    prevnngramnexts = defaultdict(list)\n",
      "    for ngram, freq in ngramfreqs.items():\n",
      "        prevnngram = ngram[:-1]\n",
      "        currchar = ngram[-1]\n",
      "        nprobs[(currchar, prevnngram)] = float(ngramfreqs[ngram]) / nngramfreqs[prevnngram]\n",
      "        if prevnngram not in prevnngramnexts.keys():\n",
      "            prevnngramnexts[prevnngram].extend([(currchar, (float(ngramfreqs[ngram]) / nngramfreqs[prevnngram]))])\n",
      "            continue\n",
      "        prevnngramnexts[prevnngram].extend([(currchar, (float(ngramfreqs[ngram]) / nngramfreqs[prevnngram]))])\n",
      "    return nprobs, prevnngramnexts\n",
      "    \n",
      "    \n",
      "# encode trigram probabilities\n",
      "triprobs, prevbigramnexts = condProbTables(trigramfreqs, bigramfreqs)\n",
      "\n",
      "# encode quadgram probabilities\n",
      "quadprobs, prevtrigramnexts = condProbTables(quadgramfreqs, trigramfreqs)\n",
      "    \n",
      "# Assert\n",
      "# print len(triprobs), len(prevbigramnexts)\n",
      "# for k, v in triprobs.items():\n",
      "#     print k, v\n",
      "# print '\\npossibilities for nexts:\\n'\n",
      "# for k2, v2 in sorted(prevbigramnexts.items()):\n",
      "#     print k2, v2"
     ],
     "language": "python",
     "metadata": {},
     "outputs": [],
     "prompt_number": 27
    },
    {
     "cell_type": "markdown",
     "metadata": {},
     "source": [
      "Now, let's do some N-Gram music note generation! We start with the start note: \"start\"."
     ]
    },
    {
     "cell_type": "code",
     "collapsed": false,
     "input": [
      "# Yield the next note for a given n-gram model.\n",
      "def yieldNext(nprobs, prevnnnexts):\n",
      "    \n",
      "note1 = \"start\""
     ],
     "language": "python",
     "metadata": {},
     "outputs": []
    }
   ],
   "metadata": {}
  }
 ]
}