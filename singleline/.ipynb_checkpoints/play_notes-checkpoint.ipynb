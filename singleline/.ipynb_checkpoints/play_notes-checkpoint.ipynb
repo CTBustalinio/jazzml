{
 "metadata": {
  "name": "",
  "signature": "sha256:9851d5afca741cc3db72b9aa675b4e56b0a8cdf65be55868b1d3b535207e3cd8"
 },
 "nbformat": 3,
 "nbformat_minor": 0,
 "worksheets": [
  {
   "cells": [
    {
     "cell_type": "markdown",
     "metadata": {},
     "source": [
      "Given a text file with the notes (and maybe durations), play them to stdout with mingus."
     ]
    },
    {
     "cell_type": "code",
     "collapsed": false,
     "input": [
      "import sys, time, re\n",
      "import music21\n",
      "import mingus.core.notes as notes\n",
      "sys.path.append('/usr/local/lib/python2.7/dist-packages/fluidsynth/')\n",
      "from mingus.midi import fluidsynth\n",
      "from mingus.containers.Note import Note\n",
      "from mingus.containers.Bar import Bar\n",
      "fluidsynth.init('/usr/share/sounds/sf2/FluidR3_GM.sf2',\"alsa\")"
     ],
     "language": "python",
     "metadata": {},
     "outputs": [
      {
       "output_type": "stream",
       "stream": "stdout",
       "text": [
        "True\n"
       ]
      }
     ],
     "prompt_number": 2
    },
    {
     "cell_type": "code",
     "collapsed": false,
     "input": [
      "# Convert music21 note to mingus note.\n",
      "def mingify(note):\n",
      "#     note.replace('-','b-')\n",
      "    accidental = re.compile(\"[A-Z](-|#)[0-9]\")\n",
      "    if accidental.match(note):\n",
      "        if '-' not in note:\n",
      "            note = Note(\"%s%s-%s\" % (note[0], note[1], note[2]))\n",
      "        else:\n",
      "            note = Note(note.replace('-', 'b-'))\n",
      "    else:\n",
      "        note = Note(\"%s-%s\" % (note[0], note[1]))\n",
      "    return note\n",
      "    \n",
      "# Get the notes. Note that you need to convert \"E-\" to \"Eb\" since you're converting music21 to mingus.\n",
      "with open('alicetrigrams.txt', 'rb') as f:\n",
      "    allnotes = [] # list of Note objects\n",
      "    alldurations = []\n",
      "    for line in f:\n",
      "        items = line.split(',')\n",
      "        note = items[0].rstrip()\n",
      "        allnotes.append(mingify(note))\n",
      "        alldurations.append(float(items[1]))\n",
      "        \n",
      "alldurations = map(lambda x: x, alldurations)\n",
      "\n",
      "# Get the durations. \n",
      "print allnotes\n",
      "print alldurations"
     ],
     "language": "python",
     "metadata": {},
     "outputs": [
      {
       "ename": "NoteFormatError",
       "evalue": "The string '1-4' is not a valid representationof a note in mingus",
       "output_type": "pyerr",
       "traceback": [
        "\u001b[1;31m---------------------------------------------------------------------------\u001b[0m\n\u001b[1;31mNoteFormatError\u001b[0m                           Traceback (most recent call last)",
        "\u001b[1;32m<ipython-input-3-400c87158fb4>\u001b[0m in \u001b[0;36m<module>\u001b[1;34m()\u001b[0m\n\u001b[0;32m     19\u001b[0m         \u001b[0mitems\u001b[0m \u001b[1;33m=\u001b[0m \u001b[0mline\u001b[0m\u001b[1;33m.\u001b[0m\u001b[0msplit\u001b[0m\u001b[1;33m(\u001b[0m\u001b[1;34m','\u001b[0m\u001b[1;33m)\u001b[0m\u001b[1;33m\u001b[0m\u001b[0m\n\u001b[0;32m     20\u001b[0m         \u001b[0mnote\u001b[0m \u001b[1;33m=\u001b[0m \u001b[0mitems\u001b[0m\u001b[1;33m[\u001b[0m\u001b[1;36m0\u001b[0m\u001b[1;33m]\u001b[0m\u001b[1;33m.\u001b[0m\u001b[0mrstrip\u001b[0m\u001b[1;33m(\u001b[0m\u001b[1;33m)\u001b[0m\u001b[1;33m\u001b[0m\u001b[0m\n\u001b[1;32m---> 21\u001b[1;33m         \u001b[0mallnotes\u001b[0m\u001b[1;33m.\u001b[0m\u001b[0mappend\u001b[0m\u001b[1;33m(\u001b[0m\u001b[0mmingify\u001b[0m\u001b[1;33m(\u001b[0m\u001b[0mnote\u001b[0m\u001b[1;33m)\u001b[0m\u001b[1;33m)\u001b[0m\u001b[1;33m\u001b[0m\u001b[0m\n\u001b[0m\u001b[0;32m     22\u001b[0m         \u001b[0malldurations\u001b[0m\u001b[1;33m.\u001b[0m\u001b[0mappend\u001b[0m\u001b[1;33m(\u001b[0m\u001b[0mfloat\u001b[0m\u001b[1;33m(\u001b[0m\u001b[0mitems\u001b[0m\u001b[1;33m[\u001b[0m\u001b[1;36m1\u001b[0m\u001b[1;33m]\u001b[0m\u001b[1;33m)\u001b[0m\u001b[1;33m)\u001b[0m\u001b[1;33m\u001b[0m\u001b[0m\n\u001b[0;32m     23\u001b[0m \u001b[1;33m\u001b[0m\u001b[0m\n",
        "\u001b[1;32m<ipython-input-3-400c87158fb4>\u001b[0m in \u001b[0;36mmingify\u001b[1;34m(note)\u001b[0m\n\u001b[0;32m      9\u001b[0m             \u001b[0mnote\u001b[0m \u001b[1;33m=\u001b[0m \u001b[0mNote\u001b[0m\u001b[1;33m(\u001b[0m\u001b[0mnote\u001b[0m\u001b[1;33m.\u001b[0m\u001b[0mreplace\u001b[0m\u001b[1;33m(\u001b[0m\u001b[1;34m'-'\u001b[0m\u001b[1;33m,\u001b[0m \u001b[1;34m'b-'\u001b[0m\u001b[1;33m)\u001b[0m\u001b[1;33m)\u001b[0m\u001b[1;33m\u001b[0m\u001b[0m\n\u001b[0;32m     10\u001b[0m     \u001b[1;32melse\u001b[0m\u001b[1;33m:\u001b[0m\u001b[1;33m\u001b[0m\u001b[0m\n\u001b[1;32m---> 11\u001b[1;33m         \u001b[0mnote\u001b[0m \u001b[1;33m=\u001b[0m \u001b[0mNote\u001b[0m\u001b[1;33m(\u001b[0m\u001b[1;34m\"%s-%s\"\u001b[0m \u001b[1;33m%\u001b[0m \u001b[1;33m(\u001b[0m\u001b[0mnote\u001b[0m\u001b[1;33m[\u001b[0m\u001b[1;36m0\u001b[0m\u001b[1;33m]\u001b[0m\u001b[1;33m,\u001b[0m \u001b[0mnote\u001b[0m\u001b[1;33m[\u001b[0m\u001b[1;36m1\u001b[0m\u001b[1;33m]\u001b[0m\u001b[1;33m)\u001b[0m\u001b[1;33m)\u001b[0m\u001b[1;33m\u001b[0m\u001b[0m\n\u001b[0m\u001b[0;32m     12\u001b[0m     \u001b[1;32mreturn\u001b[0m \u001b[0mnote\u001b[0m\u001b[1;33m\u001b[0m\u001b[0m\n\u001b[0;32m     13\u001b[0m \u001b[1;33m\u001b[0m\u001b[0m\n",
        "\u001b[1;32m/usr/local/lib/python2.7/dist-packages/mingus/containers/Note.pyc\u001b[0m in \u001b[0;36m__init__\u001b[1;34m(self, name, octave, dynamics)\u001b[0m\n\u001b[0;32m     46\u001b[0m         \u001b[1;32mdef\u001b[0m \u001b[0m__init__\u001b[0m\u001b[1;33m(\u001b[0m\u001b[0mself\u001b[0m\u001b[1;33m,\u001b[0m \u001b[0mname\u001b[0m \u001b[1;33m=\u001b[0m \u001b[1;34m'C'\u001b[0m\u001b[1;33m,\u001b[0m \u001b[0moctave\u001b[0m \u001b[1;33m=\u001b[0m \u001b[1;36m4\u001b[0m\u001b[1;33m,\u001b[0m \u001b[0mdynamics\u001b[0m \u001b[1;33m=\u001b[0m \u001b[1;33m{\u001b[0m\u001b[1;33m}\u001b[0m\u001b[1;33m)\u001b[0m\u001b[1;33m:\u001b[0m\u001b[1;33m\u001b[0m\u001b[0m\n\u001b[0;32m     47\u001b[0m                 \u001b[1;32mif\u001b[0m \u001b[0mtype\u001b[0m\u001b[1;33m(\u001b[0m\u001b[0mname\u001b[0m\u001b[1;33m)\u001b[0m \u001b[1;33m==\u001b[0m \u001b[0mstr\u001b[0m\u001b[1;33m:\u001b[0m\u001b[1;33m\u001b[0m\u001b[0m\n\u001b[1;32m---> 48\u001b[1;33m                         \u001b[0mself\u001b[0m\u001b[1;33m.\u001b[0m\u001b[0mset_note\u001b[0m\u001b[1;33m(\u001b[0m\u001b[0mname\u001b[0m\u001b[1;33m,\u001b[0m \u001b[0moctave\u001b[0m\u001b[1;33m,\u001b[0m \u001b[0mdynamics\u001b[0m\u001b[1;33m)\u001b[0m\u001b[1;33m\u001b[0m\u001b[0m\n\u001b[0m\u001b[0;32m     49\u001b[0m \u001b[1;33m\u001b[0m\u001b[0m\n\u001b[0;32m     50\u001b[0m                 \u001b[1;31m# Hardcopy Note object\u001b[0m\u001b[1;33m\u001b[0m\u001b[1;33m\u001b[0m\u001b[0m\n",
        "\u001b[1;32m/usr/local/lib/python2.7/dist-packages/mingus/containers/Note.pyc\u001b[0m in \u001b[0;36mset_note\u001b[1;34m(self, name, octave, dynamics)\u001b[0m\n\u001b[0;32m     88\u001b[0m                                 \u001b[1;32mraise\u001b[0m \u001b[0mNoteFormatError\u001b[0m\u001b[1;33m,\u001b[0m\u001b[0;31m\\\u001b[0m\u001b[1;33m\u001b[0m\u001b[0m\n\u001b[0;32m     89\u001b[0m                                         \u001b[1;34m\"The string '%s' is not a valid representation\"\u001b[0m\u001b[0;31m\\\u001b[0m\u001b[1;33m\u001b[0m\u001b[0m\n\u001b[1;32m---> 90\u001b[1;33m                                         \u001b[1;34m\"of a note in mingus\"\u001b[0m \u001b[1;33m%\u001b[0m \u001b[0mname\u001b[0m\u001b[1;33m\u001b[0m\u001b[0m\n\u001b[0m\u001b[0;32m     91\u001b[0m                 \u001b[1;32mreturn\u001b[0m \u001b[0mFalse\u001b[0m\u001b[1;33m\u001b[0m\u001b[0m\n\u001b[0;32m     92\u001b[0m \u001b[1;33m\u001b[0m\u001b[0m\n",
        "\u001b[1;31mNoteFormatError\u001b[0m: The string '1-4' is not a valid representationof a note in mingus"
       ]
      }
     ],
     "prompt_number": 3
    },
    {
     "cell_type": "code",
     "collapsed": false,
     "input": [
      "# Convert note duration to format for mingus, i.e. '4' for a quarter note.\n",
      "def mingDuration(duration):\n",
      "    pass\n",
      "\n",
      "# Test - iterate through and play the note\n",
      "# for note in allnotes:\n",
      "#     note.velocity = 120\n",
      "#     fluidsynth.play_Note(note)\n",
      "#     time.sleep(0.15)\n",
      "    \n",
      "# Strategy: make one huge bar with total # of beats = equal to sum of all notes' durations. Then can play without\n",
      "# having overlap etc. Also: 4 = one quarter note, so multiply durations accordingly. \n",
      "# First, test mingDuration() to see if can convert your style duration (e.g. 0.25 = 1/8 note) to mingus style\n",
      "# (4 == quarter note). Then after that, do the sum thing etc.\n",
      "b = Bar()\n",
      "b.set_meter((sum(alldurations), 4))\n",
      "for ix, note in enumerate(allnotes):\n",
      "    print note, alldurations[ix]\n",
      "    b.place_notes(note, alldurations[ix])"
     ],
     "language": "python",
     "metadata": {},
     "outputs": [
      {
       "output_type": "stream",
       "stream": "stdout",
       "text": [
        "'G-5' 0.25\n",
        "'C-4' 0.5\n",
        "'G-4' 0.25\n",
        "'F-4' 1.25\n",
        "'C-4' 0.75\n",
        "'F#-4' 0.5\n",
        "'G-4' 1.0\n",
        "'C-4' 0.5\n",
        "'G-4' 0.75\n",
        "'F-4' 0.5\n",
        "'D-4' 0.75\n",
        "'D-5' 0.5\n",
        "'C-4' 1.0\n",
        "'A-4' 0.25\n",
        "'D-5' 0.5\n",
        "'E-4' 0.5\n",
        "'D-4' 0.25\n",
        "'E-4' 1.5\n",
        "'F-4' 1.5\n",
        "'A-5' 0.25\n",
        "'F-5' 1.25\n",
        "'C-5' 0.25\n",
        "'C-4' 0.75\n",
        "'C-5' 0.25\n",
        "'G-4' 0.25\n",
        "'F-4' 1.25\n",
        "'C-4' 0.25\n",
        "'F#-4' 0.25\n",
        "'D-4' 0.5\n",
        "'E-4' 0.5\n",
        "'F-4' 0.25\n",
        "'E-4' 0.5\n",
        "'C-4' 0.5\n",
        "'C-4' 0.75\n",
        "'E-6' 0.75\n",
        "'E-5' 0.75\n",
        "'D-5' 0.75\n",
        "'C-5' 0.75\n",
        "'G-5' 0.5\n",
        "'G-4' 0.25\n",
        "'E-4' 0.25\n",
        "'C#-4' 0.75\n",
        "'F#-4' 1.0\n",
        "'C#-4' 0.75\n",
        "'C#-5' 0.75\n",
        "'F-4' 0.25\n",
        "'F-4' 0.25\n",
        "'E-4' 2.5\n",
        "'C-4' 0.25\n",
        "'F-4' 1.0\n",
        "'E-4' 0.25\n",
        "'D-4' 0.25\n",
        "'B-4' 1.0\n",
        "'F#-4' 0.25\n",
        "'A-4' 0.75\n",
        "'G-5' 1.25\n",
        "'E-4' 1.5\n",
        "'D-5' 0.25\n",
        "'E-5' 0.25\n",
        "'F-5' 0.5\n",
        "'E-5' 0.25\n",
        "'D-5' 0.25\n",
        "'E-4' 2.25\n",
        "'D-4' 0.75\n",
        "'G-4' 1.5\n",
        "'C-5' 0.25\n",
        "'B-4' 0.25\n",
        "'E-4' 0.25\n",
        "'B-4' 2.75\n",
        "'Eb-4' 1.0\n",
        "'G-4' 0.25\n",
        "'C-5' 1.75\n",
        "'C#-5' 1.0\n",
        "'C-4' 0.75\n",
        "'C#-4' 0.25\n",
        "'F-5' 0.75\n",
        "'F-4' 0.75\n",
        "'F#-5' 0.25\n",
        "'C-6' 0.5\n",
        "'F-4' 2.25\n",
        "'C#-4' 0.25\n",
        "'C#-6' 0.75\n",
        "'E-6' 1.0\n",
        "'C-4' 1.0\n",
        "'B-6' 0.25\n",
        "'E-6' 0.25\n",
        "'C-4' 0.5\n",
        "'D-6' 2.0\n",
        "'D-5' 0.25\n",
        "'D-5' 0.25\n",
        "'G-5' 0.25\n",
        "'B-7' 0.25\n",
        "'F#-7' 0.5\n",
        "'B-6' 1.75\n",
        "'C-5' 2.5\n",
        "'C#-5' 1.75\n",
        "'Eb-5' 0.25\n",
        "'Eb-5' 0.75\n",
        "'Eb-5' 0.5\n",
        "'Eb-6' 1.25\n"
       ]
      }
     ],
     "prompt_number": 25
    },
    {
     "cell_type": "code",
     "collapsed": false,
     "input": [
      "fluidsynth.play_Bar(b, 1, 500)"
     ],
     "language": "python",
     "metadata": {},
     "outputs": [
      {
       "metadata": {},
       "output_type": "pyout",
       "prompt_number": 26,
       "text": [
        "{'bpm': 500}"
       ]
      }
     ],
     "prompt_number": 26
    },
    {
     "cell_type": "code",
     "collapsed": false,
     "input": [],
     "language": "python",
     "metadata": {},
     "outputs": []
    }
   ],
   "metadata": {}
  }
 ]
}