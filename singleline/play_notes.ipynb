{
 "metadata": {
  "name": "",
  "signature": "sha256:422a9253da1a584f22aeb1c9da9e53194024e6833e90566ba7bb55eeac59d9c9"
 },
 "nbformat": 3,
 "nbformat_minor": 0,
 "worksheets": [
  {
   "cells": [
    {
     "cell_type": "markdown",
     "metadata": {},
     "source": [
      "Given a text file with the notes (and maybe durations), play them to stdout with mingus."
     ]
    },
    {
     "cell_type": "code",
     "collapsed": false,
     "input": [
      "import sys, time, re\n",
      "import music21\n",
      "import mingus.core.notes as notes\n",
      "sys.path.append('/usr/local/lib/python2.7/dist-packages/fluidsynth/')\n",
      "from mingus.midi import fluidsynth\n",
      "from mingus.containers.Note import Note\n",
      "from mingus.containers.Bar import Bar\n",
      "fluidsynth.init('/usr/share/sounds/sf2/FluidR3_GM.sf2',\"alsa\")"
     ],
     "language": "python",
     "metadata": {},
     "outputs": [
      {
       "metadata": {},
       "output_type": "pyout",
       "prompt_number": 4,
       "text": [
        "True"
       ]
      }
     ],
     "prompt_number": 4
    },
    {
     "cell_type": "code",
     "collapsed": false,
     "input": [
      "# Convert music21 note to mingus note.\n",
      "def mingify(note):\n",
      "#     note.replace('-','b-')\n",
      "    accidental = re.compile(\"[A-Z](-|#)[0-9]\")\n",
      "    if accidental.match(note):\n",
      "        if '-' not in note:\n",
      "            note = Note(\"%s%s-%s\" % (note[0], note[1], note[2]))\n",
      "        else:\n",
      "            note = Note(note.replace('-', 'b-'))\n",
      "    else:\n",
      "        note = Note(\"%s-%s\" % (note[0], note[1]))\n",
      "    return note\n",
      "    \n",
      "# Get the notes. Note that you need to convert \"E-\" to \"Eb\" since you're converting music21 to mingus.\n",
      "with open('alicetrigrams.txt', 'rb') as f:\n",
      "    allnotes = [] # list of Note objects\n",
      "    alldurations = []\n",
      "    for line in f:\n",
      "        items = line.split(',')\n",
      "        note = items[0].rstrip()\n",
      "        allnotes.append(mingify(note))\n",
      "        alldurations.append(float(items[1]))\n",
      "        \n",
      "alldurations = map(lambda x: x, alldurations)\n",
      "\n",
      "# Get the durations. \n",
      "print allnotes\n",
      "print alldurations"
     ],
     "language": "python",
     "metadata": {},
     "outputs": [
      {
       "output_type": "stream",
       "stream": "stdout",
       "text": [
        "['G-5', 'C-4', 'F-4', 'C#-4', 'C-5', 'C-5', 'C-4', 'D-4', 'E-5', 'C-4', 'E-4', 'C-4', 'C-4', 'Eb-5', 'C-4', 'C-4', 'G-5', 'Eb-5', 'G#-4', 'C-4', 'C-4', 'F-4', 'C#-4', 'F-4', 'C#-6', 'D-6', 'C-4', 'B-6', 'E-6', 'C-4', 'D-6', 'E-6', 'D-6', 'F-6', 'E-6', 'G-5', 'Eb-4', 'G-6', 'D-4', 'G-5', 'C#-5', 'E-5', 'D-6', 'C-4', 'B-6', 'F-4', 'G-6', 'G-5', 'G-4', 'E-4', 'C#-4', 'F#-4', 'C#-4', 'C#-5', 'C-4', 'C#-4', 'F-5', 'F-4', 'F#-5', 'C-6', 'F-4', 'C#-4', 'F-4', 'C#-6', 'D-6', 'C-4', 'B-6', 'F-4', 'G-6', 'G-5', 'G-4', 'E-4', 'F-5', 'E-5', 'G-4', 'C-5', 'G-4', 'D-4', 'C-5', 'E-5', 'D-5', 'C-5', 'G-5', 'G-4', 'A-4', 'B-4', 'C-5', 'C-5', 'D-4', 'D-5', 'E-5', 'D-5', 'F-4', 'D-4', 'D-5', 'C-4', 'A-4', 'D-5', 'F#-4']\n",
        "[1.25, 1.0, 0.5, 0.5, 0.75, 0.5, 0.5, 0.25, 2.0, 0.75, 2.0, 0.75, 1.5, 0.5, 0.25, 0.25, 1.5, 1.5, 2.5, 2.25, 0.25, 0.75, 3.0, 0.25, 0.25, 3.0, 0.5, 0.5, 0.25, 1.25, 0.25, 0.25, 0.25, 1.75, 0.25, 0.25, 0.25, 0.5, 0.25, 1.5, 0.5, 3.0, 1.25, 1.5, 2.0, 1.5, 0.25, 0.75, 0.5, 0.25, 0.75, 2.25, 0.5, 2.5, 0.25, 0.25, 1.75, 1.0, 1.5, 0.5, 1.0, 0.75, 0.5, 0.75, 1.25, 1.25, 0.25, 0.25, 0.75, 1.25, 1.5, 2.5, 0.75, 0.25, 0.5, 1.25, 0.5, 0.25, 2.5, 0.25, 0.25, 0.5, 0.75, 0.75, 0.5, 2.0, 1.5, 0.75, 0.5, 0.25, 0.25, 0.25, 0.25, 0.25, 1.5, 0.25, 2.25, 0.25, 0.25]\n"
       ]
      }
     ],
     "prompt_number": 5
    },
    {
     "cell_type": "code",
     "collapsed": false,
     "input": [
      "# Convert note duration to format for mingus, i.e. '4' for a quarter note.\n",
      "def mingDuration(duration):\n",
      "    pass\n",
      "\n",
      "# Test - iterate through and play the note\n",
      "# for note in allnotes:\n",
      "#     note.velocity = 120\n",
      "#     fluidsynth.play_Note(note)\n",
      "#     time.sleep(0.15)\n",
      "    \n",
      "# Strategy: make one huge bar with total # of beats = equal to sum of all notes' durations. Then can play without\n",
      "# having overlap etc. Also: 4 = one quarter note, so multiply durations accordingly. \n",
      "# First, test mingDuration() to see if can convert your style duration (e.g. 0.25 = 1/8 note) to mingus style\n",
      "# (4 == quarter note). Then after that, do the sum thing etc.\n",
      "b = Bar()\n",
      "b.set_meter((sum(alldurations), 4))\n",
      "for ix, note in enumerate(allnotes):\n",
      "    print note, alldurations[ix]\n",
      "    b.place_notes(note, alldurations[ix])"
     ],
     "language": "python",
     "metadata": {},
     "outputs": [
      {
       "output_type": "stream",
       "stream": "stdout",
       "text": [
        "'G-5' 0.25\n",
        "'C-4' 0.5\n",
        "'G-4' 0.25\n",
        "'F-4' 1.25\n",
        "'C-4' 0.75\n",
        "'F#-4' 0.5\n",
        "'G-4' 1.0\n",
        "'C-4' 0.5\n",
        "'G-4' 0.75\n",
        "'F-4' 0.5\n",
        "'D-4' 0.75\n",
        "'D-5' 0.5\n",
        "'C-4' 1.0\n",
        "'A-4' 0.25\n",
        "'D-5' 0.5\n",
        "'E-4' 0.5\n",
        "'D-4' 0.25\n",
        "'E-4' 1.5\n",
        "'F-4' 1.5\n",
        "'A-5' 0.25\n",
        "'F-5' 1.25\n",
        "'C-5' 0.25\n",
        "'C-4' 0.75\n",
        "'C-5' 0.25\n",
        "'G-4' 0.25\n",
        "'F-4' 1.25\n",
        "'C-4' 0.25\n",
        "'F#-4' 0.25\n",
        "'D-4' 0.5\n",
        "'E-4' 0.5\n",
        "'F-4' 0.25\n",
        "'E-4' 0.5\n",
        "'C-4' 0.5\n",
        "'C-4' 0.75\n",
        "'E-6' 0.75\n",
        "'E-5' 0.75\n",
        "'D-5' 0.75\n",
        "'C-5' 0.75\n",
        "'G-5' 0.5\n",
        "'G-4' 0.25\n",
        "'E-4' 0.25\n",
        "'C#-4' 0.75\n",
        "'F#-4' 1.0\n",
        "'C#-4' 0.75\n",
        "'C#-5' 0.75\n",
        "'F-4' 0.25\n",
        "'F-4' 0.25\n",
        "'E-4' 2.5\n",
        "'C-4' 0.25\n",
        "'F-4' 1.0\n",
        "'E-4' 0.25\n",
        "'D-4' 0.25\n",
        "'B-4' 1.0\n",
        "'F#-4' 0.25\n",
        "'A-4' 0.75\n",
        "'G-5' 1.25\n",
        "'E-4' 1.5\n",
        "'D-5' 0.25\n",
        "'E-5' 0.25\n",
        "'F-5' 0.5\n",
        "'E-5' 0.25\n",
        "'D-5' 0.25\n",
        "'E-4' 2.25\n",
        "'D-4' 0.75\n",
        "'G-4' 1.5\n",
        "'C-5' 0.25\n",
        "'B-4' 0.25\n",
        "'E-4' 0.25\n",
        "'B-4' 2.75\n",
        "'Eb-4' 1.0\n",
        "'G-4' 0.25\n",
        "'C-5' 1.75\n",
        "'C#-5' 1.0\n",
        "'C-4' 0.75\n",
        "'C#-4' 0.25\n",
        "'F-5' 0.75\n",
        "'F-4' 0.75\n",
        "'F#-5' 0.25\n",
        "'C-6' 0.5\n",
        "'F-4' 2.25\n",
        "'C#-4' 0.25\n",
        "'C#-6' 0.75\n",
        "'E-6' 1.0\n",
        "'C-4' 1.0\n",
        "'B-6' 0.25\n",
        "'E-6' 0.25\n",
        "'C-4' 0.5\n",
        "'D-6' 2.0\n",
        "'D-5' 0.25\n",
        "'D-5' 0.25\n",
        "'G-5' 0.25\n",
        "'B-7' 0.25\n",
        "'F#-7' 0.5\n",
        "'B-6' 1.75\n",
        "'C-5' 2.5\n",
        "'C#-5' 1.75\n",
        "'Eb-5' 0.25\n",
        "'Eb-5' 0.75\n",
        "'Eb-5' 0.5\n",
        "'Eb-6' 1.25\n"
       ]
      }
     ],
     "prompt_number": 25
    },
    {
     "cell_type": "code",
     "collapsed": false,
     "input": [
      "fluidsynth.play_Bar(b, 1, 500)"
     ],
     "language": "python",
     "metadata": {},
     "outputs": [
      {
       "metadata": {},
       "output_type": "pyout",
       "prompt_number": 26,
       "text": [
        "{'bpm': 500}"
       ]
      }
     ],
     "prompt_number": 26
    },
    {
     "cell_type": "code",
     "collapsed": false,
     "input": [],
     "language": "python",
     "metadata": {},
     "outputs": []
    }
   ],
   "metadata": {}
  }
 ]
}