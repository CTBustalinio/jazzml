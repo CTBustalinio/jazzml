{
 "metadata": {
  "name": "",
  "signature": "sha256:abdea2452aad05fae9198b1de555cd20f64155a04d2badcc30f946bd57512a50"
 },
 "nbformat": 3,
 "nbformat_minor": 0,
 "worksheets": [
  {
   "cells": [
    {
     "cell_type": "heading",
     "level": 3,
     "metadata": {},
     "source": [
      "Demo: Read in a text file and play it"
     ]
    },
    {
     "cell_type": "markdown",
     "metadata": {},
     "source": [
      "Read in notes line by line and play them! Takes a prepared MIDI text file as input and plays it. See \"alicequadgrams.txt\" for an example of what to put in the text file."
     ]
    },
    {
     "cell_type": "code",
     "collapsed": false,
     "input": [
      "import sys, time\n",
      "import music21\n",
      "import mingus.core.notes as notes\n",
      "sys.path.append('/usr/local/lib/python2.7/dist-packages/fluidsynth/')"
     ],
     "language": "python",
     "metadata": {},
     "outputs": [],
     "prompt_number": 75
    },
    {
     "cell_type": "code",
     "collapsed": false,
     "input": [
      "from mingus.midi import fluidsynth\n",
      "from mingus.containers.Note import Note\n",
      "from mingus.containers.Bar import Bar"
     ],
     "language": "python",
     "metadata": {},
     "outputs": [],
     "prompt_number": 76
    },
    {
     "cell_type": "code",
     "collapsed": false,
     "input": [
      "fluidsynth.init('/usr/share/sounds/sf2/FluidR3_GM.sf2',\"alsa\")"
     ],
     "language": "python",
     "metadata": {},
     "outputs": [
      {
       "metadata": {},
       "output_type": "pyout",
       "prompt_number": 77,
       "text": [
        "True"
       ]
      }
     ],
     "prompt_number": 77
    },
    {
     "cell_type": "code",
     "collapsed": false,
     "input": [
      "# Convert for use with mingus. You lose the octave information though. Maybe you should convert it to actual pitches\n",
      "# (lookup how to do that for given note, e.g. C5) at some point.\n",
      "# with open('alicequadgrams.txt', 'rb') as f:\n",
      "#     data = []\n",
      "#     for line in f:\n",
      "#         item = ''.join([i for i in line.split()])\n",
      "#         item = ''.join([i for i in item.replace('-','b') if not i.isdigit()])\n",
      "#         if notes.is_valid_note(item):\n",
      "#             data.append(item)"
     ],
     "language": "python",
     "metadata": {},
     "outputs": [],
     "prompt_number": 78
    },
    {
     "cell_type": "code",
     "collapsed": false,
     "input": [
      "# get the data\n",
      "with open('alicequadgrams.txt', 'rb') as f:\n",
      "    data = [] # list of Note objects\n",
      "    for line in f:\n",
      "        note = line.rstrip()\n",
      "        if note[1] == '-':\n",
      "            data.append(Note(note))\n",
      "        else:\n",
      "            if len(note) == 2: # if no sharps or flats\n",
      "                note = Note(\"%s-%s\" % (note[0], note[1]))\n",
      "            else:\n",
      "                note = Note(\"%s%s-%s\" % (note[0], note[1], note[2]))\n",
      "            data.append(note)\n",
      "# data"
     ],
     "language": "python",
     "metadata": {},
     "outputs": [],
     "prompt_number": 79
    },
    {
     "cell_type": "code",
     "collapsed": false,
     "input": [
      "# test to see if mingus can play a note\n",
      "testnote = data[0]\n",
      "n = Note(testnote)\n",
      "n.channel = 1\n",
      "n.velocity = 120\n",
      "fluidsynth.play_Note(n)"
     ],
     "language": "python",
     "metadata": {},
     "outputs": [
      {
       "metadata": {},
       "output_type": "pyout",
       "prompt_number": 80,
       "text": [
        "True"
       ]
      }
     ],
     "prompt_number": 80
    },
    {
     "cell_type": "code",
     "collapsed": false,
     "input": [
      "# Test - iterate through and play the note\n",
      "for note in data:\n",
      "#     note.duration = 120\n",
      "    note.velocity = 120\n",
      "    fluidsynth.play_Note(note)\n",
      "    time.sleep(0.15)"
     ],
     "language": "python",
     "metadata": {},
     "outputs": [],
     "prompt_number": 82
    },
    {
     "cell_type": "code",
     "collapsed": false,
     "input": [
      "# Test bar class so can have durations\n",
      "b = Bar()\n",
      "b.place_notes(data[0], 4)\n",
      "b.place_notes(data[1], 4)\n",
      "b.place_notes([data[2], data[3]], 2)\n",
      "\n",
      "c = Bar()\n",
      "c.place_notes([data[4], data[5], data[6]], 2)\n",
      "c.place_notes(data[7], 8)\n",
      "c.place_notes(data[8], 6)"
     ],
     "language": "python",
     "metadata": {},
     "outputs": [
      {
       "metadata": {},
       "output_type": "pyout",
       "prompt_number": 62,
       "text": [
        "True"
       ]
      }
     ],
     "prompt_number": 62
    },
    {
     "cell_type": "code",
     "collapsed": false,
     "input": [
      "# play the bars\n",
      "bars = [b, c]\n",
      "for i in bars:\n",
      "    fluidsynth.play_Bar(i)"
     ],
     "language": "python",
     "metadata": {},
     "outputs": [],
     "prompt_number": 73
    },
    {
     "cell_type": "code",
     "collapsed": false,
     "input": [
      "# test putting into bars\n",
      "allbars = []\n",
      "for ix, note in enumerate(data):\n",
      "    b = Bar()\n",
      "    "
     ],
     "language": "python",
     "metadata": {},
     "outputs": []
    }
   ],
   "metadata": {}
  }
 ]
}