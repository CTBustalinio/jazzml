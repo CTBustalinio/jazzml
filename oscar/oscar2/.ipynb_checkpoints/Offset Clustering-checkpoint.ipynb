{
 "metadata": {
  "name": "",
  "signature": "sha256:111aa582d29dbc5f760ab228ae29ada25226e5953d980e5bcdc83a50648cc614"
 },
 "nbformat": 3,
 "nbformat_minor": 0,
 "worksheets": [
  {
   "cells": [
    {
     "cell_type": "markdown",
     "metadata": {},
     "source": [
      "Now that you've done a decent job of getting the basic n-gram model down, you'll want to work on the offsets so things actually sound thoughtful, and not just a long stream of notes. To do this, import the data (experiment first with small # of notes, say 100) and then run KMean Clustering to find patterns. Actually, it might be useful to plot stuff first - that way you get an idea of how much notes are separated from one another.\n",
      "\n",
      "For the offsets, you'll assume that notes only come at 0.25, 0.50, etc. instead of weird numbers like 0.682 or 1.537. This is from rounding the numbers in the N-Gram notebook."
     ]
    },
    {
     "cell_type": "code",
     "collapsed": false,
     "input": [
      "from collections import Counter, defaultdict\n",
      "from sklearn.cluster import KMeans\n",
      "import pandas as pd\n",
      "import numpy as np\n",
      "import sys, copy"
     ],
     "language": "python",
     "metadata": {},
     "outputs": [],
     "prompt_number": 1
    },
    {
     "cell_type": "code",
     "collapsed": false,
     "input": [
      "# Read in the data and generate the offsets.\n",
      "# It's okay to generate offsets here since are trigram notes.\n",
      "# Recall: len = how long note lasts, offset = when it's hit (e.g. stopwatch).\n",
      "data = pd.read_csv('./oscar2trigrams.txt', names=['Note','Len'])[:50]\n",
      "totaloffset = 0\n",
      "offsets = []\n",
      "for i in data['Len']:\n",
      "    offsets.append(totaloffset)\n",
      "    totaloffset += i\n",
      "data[\"Offset\"] = pd.Series(offsets)\n",
      "print \"Shape: (%s,%s)\" % (data.shape)\n",
      "data.head()"
     ],
     "language": "python",
     "metadata": {},
     "outputs": [
      {
       "output_type": "stream",
       "stream": "stdout",
       "text": [
        "Shape: (50,3)\n"
       ]
      },
      {
       "html": [
        "<div style=\"max-height:1000px;max-width:1500px;overflow:auto;\">\n",
        "<table border=\"1\" class=\"dataframe\">\n",
        "  <thead>\n",
        "    <tr style=\"text-align: right;\">\n",
        "      <th></th>\n",
        "      <th>Note</th>\n",
        "      <th>Len</th>\n",
        "      <th>Offset</th>\n",
        "    </tr>\n",
        "  </thead>\n",
        "  <tbody>\n",
        "    <tr>\n",
        "      <th>0</th>\n",
        "      <td>  D5</td>\n",
        "      <td> 0.50</td>\n",
        "      <td> 0.00</td>\n",
        "    </tr>\n",
        "    <tr>\n",
        "      <th>1</th>\n",
        "      <td>  E4</td>\n",
        "      <td> 0.75</td>\n",
        "      <td> 0.50</td>\n",
        "    </tr>\n",
        "    <tr>\n",
        "      <th>2</th>\n",
        "      <td> G#4</td>\n",
        "      <td> 0.75</td>\n",
        "      <td> 1.25</td>\n",
        "    </tr>\n",
        "    <tr>\n",
        "      <th>3</th>\n",
        "      <td>  A4</td>\n",
        "      <td> 1.00</td>\n",
        "      <td> 2.00</td>\n",
        "    </tr>\n",
        "    <tr>\n",
        "      <th>4</th>\n",
        "      <td>  F5</td>\n",
        "      <td> 0.25</td>\n",
        "      <td> 3.00</td>\n",
        "    </tr>\n",
        "  </tbody>\n",
        "</table>\n",
        "<p>5 rows \u00d7 3 columns</p>\n",
        "</div>"
       ],
       "metadata": {},
       "output_type": "pyout",
       "prompt_number": 24,
       "text": [
        "  Note   Len  Offset\n",
        "0   D5  0.50    0.00\n",
        "1   E4  0.75    0.50\n",
        "2  G#4  0.75    1.25\n",
        "3   A4  1.00    2.00\n",
        "4   F5  0.25    3.00\n",
        "\n",
        "[5 rows x 3 columns]"
       ]
      }
     ],
     "prompt_number": 24
    },
    {
     "cell_type": "code",
     "collapsed": false,
     "input": [],
     "language": "python",
     "metadata": {},
     "outputs": []
    }
   ],
   "metadata": {}
  }
 ]
}