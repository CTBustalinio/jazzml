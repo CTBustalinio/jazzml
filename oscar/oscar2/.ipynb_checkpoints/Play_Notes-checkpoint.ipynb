{
 "metadata": {
  "name": "",
  "signature": "sha256:21fb110cb1419b84de90b8dd56fda5876b176f98685b0ebeca0b7a6efb224a1c"
 },
 "nbformat": 3,
 "nbformat_minor": 0,
 "worksheets": [
  {
   "cells": [
    {
     "cell_type": "markdown",
     "metadata": {},
     "source": [
      "This notebook takes a txt file where each line is of the form (\"%s,%s\" % (G5,1.25)) and plays it to stdout."
     ]
    },
    {
     "cell_type": "code",
     "collapsed": false,
     "input": [
      "import sys, time, re\n",
      "import music21\n",
      "import mingus.core.notes as notes\n",
      "import mingus.core.value as value\n",
      "sys.path.append('/usr/local/lib/python2.7/dist-packages/fluidsynth/')\n",
      "from mingus.midi import fluidsynth\n",
      "from mingus.containers.Note import Note\n",
      "from mingus.containers.Bar import Bar\n",
      "fluidsynth.init('/usr/share/sounds/sf2/FluidR3_GM.sf2',\"alsa\")"
     ],
     "language": "python",
     "metadata": {},
     "outputs": [
      {
       "metadata": {},
       "output_type": "pyout",
       "prompt_number": 3,
       "text": [
        "True"
       ]
      }
     ],
     "prompt_number": 3
    },
    {
     "cell_type": "code",
     "collapsed": false,
     "input": [
      "# Convert music21 note to mingus note.\n",
      "def mingify(note):\n",
      "    accidental = re.compile(\"[A-Z](-|#)[0-9]\")\n",
      "    if accidental.match(note):\n",
      "        if '-' not in note: note = Note(\"%s%s-%s\" % (note[0], note[1], note[2]))\n",
      "        else: note = Note(note.replace('-', 'b-'))\n",
      "    else: note = Note(\"%s-%s\" % (note[0], note[1]))\n",
      "    return note\n",
      "    \n",
      "# Get the notes. Note that you need to convert \"E-\" to \"Eb\" since you're converting music21 to mingus.\n",
      "with open('oscar2trigrams.txt', 'rb') as f:\n",
      "    allnotes = [] # list of Note objects\n",
      "    alldurations = []\n",
      "    for line in f:\n",
      "        items = line.split(',')\n",
      "        note = items[0].rstrip()\n",
      "        allnotes.append(mingify(note))\n",
      "        alldurations.append(float(items[1]))\n",
      "\n",
      "# Get the durations. \n",
      "# print allnotes\n",
      "# print alldurations\n",
      "print len(allnotes)\n",
      "print sum(alldurations)"
     ],
     "language": "python",
     "metadata": {},
     "outputs": [
      {
       "output_type": "stream",
       "stream": "stdout",
       "text": [
        "300\n",
        "153.5\n"
       ]
      }
     ],
     "prompt_number": 4
    },
    {
     "cell_type": "code",
     "collapsed": false,
     "input": [
      "b = Bar()\n",
      "b.set_meter((len(allnotes) * 4, 4))\n",
      "for note in allnotes:\n",
      "    b.place_notes(note, value.eighth)\n",
      "print len(b)"
     ],
     "language": "python",
     "metadata": {},
     "outputs": [
      {
       "output_type": "stream",
       "stream": "stdout",
       "text": [
        "300\n"
       ]
      }
     ],
     "prompt_number": 5
    },
    {
     "cell_type": "code",
     "collapsed": false,
     "input": [
      "fluidsynth.play_Bar(b, 1, 400)"
     ],
     "language": "python",
     "metadata": {},
     "outputs": [
      {
       "metadata": {},
       "output_type": "pyout",
       "prompt_number": 6,
       "text": [
        "{'bpm': 400}"
       ]
      }
     ],
     "prompt_number": 6
    },
    {
     "cell_type": "code",
     "collapsed": false,
     "input": [],
     "language": "python",
     "metadata": {},
     "outputs": []
    }
   ],
   "metadata": {}
  }
 ]
}