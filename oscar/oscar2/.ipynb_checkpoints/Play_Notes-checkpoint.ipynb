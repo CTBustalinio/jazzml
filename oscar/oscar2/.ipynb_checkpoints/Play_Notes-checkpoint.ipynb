{
 "metadata": {
  "name": "",
  "signature": "sha256:fdb18848ff50ce0bef09a751483f23e53b93786a7e041447fe3f5eb5f7c3e879"
 },
 "nbformat": 3,
 "nbformat_minor": 0,
 "worksheets": [
  {
   "cells": [
    {
     "cell_type": "markdown",
     "metadata": {},
     "source": [
      "This notebook takes a txt file where each line is of the form (\"%s,%s\" % (G5,1.25)) and plays it to stdout.\n",
      "\n",
      "NOTE: You need to write a function to convert a music21 length to a mingus length, given the time signature."
     ]
    },
    {
     "cell_type": "code",
     "collapsed": false,
     "input": [
      "import sys, time, re\n",
      "import music21\n",
      "import mingus.core.notes as notes\n",
      "import mingus.core.value as value\n",
      "sys.path.append('/usr/local/lib/python2.7/dist-packages/fluidsynth/')\n",
      "from mingus.midi import fluidsynth\n",
      "from mingus.containers.Note import Note\n",
      "from mingus.containers.Bar import Bar\n",
      "fluidsynth.init('/usr/share/sounds/sf2/FluidR3_GM.sf2',\"alsa\")"
     ],
     "language": "python",
     "metadata": {},
     "outputs": [
      {
       "metadata": {},
       "output_type": "pyout",
       "prompt_number": 35,
       "text": [
        "True"
       ]
      }
     ],
     "prompt_number": 35
    },
    {
     "cell_type": "code",
     "collapsed": false,
     "input": [
      "# Convert music21 note to mingus note.\n",
      "def mingify(note):\n",
      "    accidental = re.compile(\"[A-Z](-|#)[0-9]\")\n",
      "    if accidental.match(note):\n",
      "        if '-' not in note: note = Note(\"%s%s-%s\" % (note[0], note[1], note[2]))\n",
      "        else: note = Note(note.replace('-', 'b-'))\n",
      "    else: note = Note(\"%s-%s\" % (note[0], note[1]))\n",
      "    return note\n",
      "    \n",
      "# Get the notes. Note that you need to convert \"E-\" to \"Eb\" since you're converting music21 to mingus.\n",
      "with open('oscar2trigrams.txt', 'rb') as f:\n",
      "    allnotes = [] # list of Note objects\n",
      "    alldurations = []\n",
      "    for line in f:\n",
      "        items = line.split(',')\n",
      "        note = items[0].rstrip()\n",
      "        allnotes.append(mingify(note))\n",
      "        alldurations.append(float(items[1]))\n",
      "\n",
      "# Get the durations. \n",
      "# print allnotes\n",
      "# print alldurations\n",
      "print len(allnotes)\n",
      "print sum(alldurations)"
     ],
     "language": "python",
     "metadata": {},
     "outputs": [
      {
       "output_type": "stream",
       "stream": "stdout",
       "text": [
        "421\n",
        "222.25\n"
       ]
      }
     ],
     "prompt_number": 51
    },
    {
     "cell_type": "code",
     "collapsed": false,
     "input": [
      "# Put notes into one huge bar.\n",
      "b = Bar()\n",
      "b.set_meter((len(allnotes) * 4, 4))\n",
      "for note in allnotes:\n",
      "    b.place_notes(note, value.eighth)\n",
      "\n",
      "# Assert # of notes in bar == total # of notes.\n",
      "print len(b)"
     ],
     "language": "python",
     "metadata": {},
     "outputs": [
      {
       "output_type": "stream",
       "stream": "stdout",
       "text": [
        "421\n"
       ]
      }
     ],
     "prompt_number": 52
    },
    {
     "cell_type": "code",
     "collapsed": false,
     "input": [
      "# For now, just adjust tempo to do faster/slower.\n",
      "fluidsynth.play_Bar(b, 1, 375)"
     ],
     "language": "python",
     "metadata": {},
     "outputs": [
      {
       "ename": "KeyboardInterrupt",
       "evalue": "",
       "output_type": "pyerr",
       "traceback": [
        "\u001b[1;31m---------------------------------------------------------------------------\u001b[0m\n\u001b[1;31mKeyboardInterrupt\u001b[0m                         Traceback (most recent call last)",
        "\u001b[1;32m<ipython-input-53-1b06acc6544c>\u001b[0m in \u001b[0;36m<module>\u001b[1;34m()\u001b[0m\n\u001b[0;32m      1\u001b[0m \u001b[1;31m# For now, just adjust tempo to do faster/slower.\u001b[0m\u001b[1;33m\u001b[0m\u001b[1;33m\u001b[0m\u001b[0m\n\u001b[1;32m----> 2\u001b[1;33m \u001b[0mfluidsynth\u001b[0m\u001b[1;33m.\u001b[0m\u001b[0mplay_Bar\u001b[0m\u001b[1;33m(\u001b[0m\u001b[0mb\u001b[0m\u001b[1;33m,\u001b[0m \u001b[1;36m1\u001b[0m\u001b[1;33m,\u001b[0m \u001b[1;36m375\u001b[0m\u001b[1;33m)\u001b[0m\u001b[1;33m\u001b[0m\u001b[0m\n\u001b[0m",
        "\u001b[1;32m/usr/local/lib/python2.7/dist-packages/mingus/midi/fluidsynth.pyc\u001b[0m in \u001b[0;36mplay_Bar\u001b[1;34m(bar, channel, bpm)\u001b[0m\n\u001b[0;32m    137\u001b[0m \t\"\"\"Plays a Bar object using play_NoteContainer and stop_NoteContainer. \\\n\u001b[0;32m    138\u001b[0m Set a bpm attribute on a NoteContainer to change the tempo.\"\"\"\n\u001b[1;32m--> 139\u001b[1;33m         \u001b[1;32mreturn\u001b[0m \u001b[0mmidi\u001b[0m\u001b[1;33m.\u001b[0m\u001b[0mplay_Bar\u001b[0m\u001b[1;33m(\u001b[0m\u001b[0mbar\u001b[0m\u001b[1;33m,\u001b[0m \u001b[0mchannel\u001b[0m\u001b[1;33m,\u001b[0m \u001b[0mbpm\u001b[0m\u001b[1;33m)\u001b[0m\u001b[1;33m\u001b[0m\u001b[0m\n\u001b[0m\u001b[0;32m    140\u001b[0m \u001b[1;33m\u001b[0m\u001b[0m\n\u001b[0;32m    141\u001b[0m \u001b[1;32mdef\u001b[0m \u001b[0mplay_Bars\u001b[0m\u001b[1;33m(\u001b[0m\u001b[0mbars\u001b[0m\u001b[1;33m,\u001b[0m \u001b[0mchannels\u001b[0m\u001b[1;33m,\u001b[0m \u001b[0mbpm\u001b[0m \u001b[1;33m=\u001b[0m \u001b[1;36m120\u001b[0m\u001b[1;33m)\u001b[0m\u001b[1;33m:\u001b[0m\u001b[1;33m\u001b[0m\u001b[0m\n",
        "\u001b[1;32m/usr/local/lib/python2.7/dist-packages/mingus/midi/Sequencer.pyc\u001b[0m in \u001b[0;36mplay_Bar\u001b[1;34m(self, bar, channel, bpm)\u001b[0m\n\u001b[0;32m    220\u001b[0m                                 \u001b[0mqn_length\u001b[0m \u001b[1;33m=\u001b[0m \u001b[1;36m60.0\u001b[0m \u001b[1;33m/\u001b[0m \u001b[0mbpm\u001b[0m\u001b[1;33m\u001b[0m\u001b[0m\n\u001b[0;32m    221\u001b[0m \u001b[1;33m\u001b[0m\u001b[0m\n\u001b[1;32m--> 222\u001b[1;33m                         \u001b[0msleep\u001b[0m\u001b[1;33m(\u001b[0m\u001b[0mqn_length\u001b[0m \u001b[1;33m*\u001b[0m \u001b[1;33m(\u001b[0m\u001b[1;36m4.0\u001b[0m \u001b[1;33m/\u001b[0m \u001b[0mnc\u001b[0m\u001b[1;33m[\u001b[0m\u001b[1;36m1\u001b[0m\u001b[1;33m]\u001b[0m\u001b[1;33m)\u001b[0m\u001b[1;33m)\u001b[0m\u001b[1;33m\u001b[0m\u001b[0m\n\u001b[0m\u001b[0;32m    223\u001b[0m                         \u001b[0mself\u001b[0m\u001b[1;33m.\u001b[0m\u001b[0mstop_NoteContainer\u001b[0m\u001b[1;33m(\u001b[0m\u001b[0mnc\u001b[0m\u001b[1;33m[\u001b[0m\u001b[1;36m2\u001b[0m\u001b[1;33m]\u001b[0m\u001b[1;33m,\u001b[0m \u001b[0mchannel\u001b[0m\u001b[1;33m)\u001b[0m\u001b[1;33m\u001b[0m\u001b[0m\n\u001b[0;32m    224\u001b[0m \u001b[1;33m\u001b[0m\u001b[0m\n",
        "\u001b[1;31mKeyboardInterrupt\u001b[0m: "
       ]
      }
     ],
     "prompt_number": 53
    },
    {
     "cell_type": "code",
     "collapsed": false,
     "input": [],
     "language": "python",
     "metadata": {},
     "outputs": [],
     "prompt_number": 26
    }
   ],
   "metadata": {}
  }
 ]
}