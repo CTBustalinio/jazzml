{
 "metadata": {
  "name": "",
  "signature": "sha256:cc855b325c5aa5d492d9b67d0634bad269ce0173f3f5f75f3ffd8e4e316daaa4"
 },
 "nbformat": 3,
 "nbformat_minor": 0,
 "worksheets": [
  {
   "cells": [
    {
     "cell_type": "markdown",
     "metadata": {},
     "source": [
      "Here, you build a classifier with Scikit-Learn for use in 6b. The You'll want to read in Oscar's original data as an array of bitwise note vectors, and from there build the RBM to predict chords (the y's, perhaps build the chord bank and assign a unique number to each). After that, given a note vector (maybe plural?), you should be able to predict the chords for a note (notes?).\n",
      "\n",
      "This is for Oscar's musical data. The next step is to do the classification for your n-gram model."
     ]
    },
    {
     "cell_type": "code",
     "collapsed": false,
     "input": [
      "from collections import defaultdict\n",
      "import pandas as pd\n",
      "import numpy as np\n",
      "import scipy.sparse\n",
      "import random, cPickle"
     ],
     "language": "python",
     "metadata": {},
     "outputs": [],
     "prompt_number": 1
    },
    {
     "cell_type": "code",
     "collapsed": false,
     "input": [
      "# Extract chords into unique ids, e.g. 1, 2, 3, 4, 5\n",
      "allchords = defaultdict() # remember that it's a hash table\n",
      "with open(\"oscar2chords_extract.txt\", 'rb') as f:\n",
      "    for ix, line in enumerate(f):\n",
      "        items = line.split()\n",
      "        allchords[ix] = items\n",
      "assert len(allchords) == len(set(allchords)) # ensure no duplicate chords"
     ],
     "language": "python",
     "metadata": {},
     "outputs": [],
     "prompt_number": 2
    },
    {
     "cell_type": "code",
     "collapsed": false,
     "input": [
      "# Read in Oscar's data.\n",
      "vectors = []\n",
      "notedata = pd.read_csv(open(\"oscar2notes.txt\", 'rb'), skiprows=2)\n",
      "allnotes = []\n",
      "for note, octave in zip(notedata[\"Note/Rest\"], notedata[\"Octave\"]):\n",
      "    allnotes.append(\"%s%s\" % (note, octave))\n",
      "\n",
      "print \"Number of notes (# of samples for RBM): \", len(notedata)\n",
      "notedata.head()"
     ],
     "language": "python",
     "metadata": {},
     "outputs": [
      {
       "output_type": "stream",
       "stream": "stdout",
       "text": [
        "Number of notes (# of samples for RBM):  1344\n"
       ]
      },
      {
       "html": [
        "<div style=\"max-height:1000px;max-width:1500px;overflow:auto;\">\n",
        "<table border=\"1\" class=\"dataframe\">\n",
        "  <thead>\n",
        "    <tr style=\"text-align: right;\">\n",
        "      <th></th>\n",
        "      <th>Note/Rest</th>\n",
        "      <th>Octave</th>\n",
        "      <th>Len</th>\n",
        "      <th>Offset</th>\n",
        "    </tr>\n",
        "  </thead>\n",
        "  <tbody>\n",
        "    <tr>\n",
        "      <th>0</th>\n",
        "      <td> B</td>\n",
        "      <td> 3</td>\n",
        "      <td> 0.500000</td>\n",
        "      <td> 12.625</td>\n",
        "    </tr>\n",
        "    <tr>\n",
        "      <th>1</th>\n",
        "      <td> A</td>\n",
        "      <td> 5</td>\n",
        "      <td> 0.250000</td>\n",
        "      <td> 15.000</td>\n",
        "    </tr>\n",
        "    <tr>\n",
        "      <th>2</th>\n",
        "      <td> F</td>\n",
        "      <td> 4</td>\n",
        "      <td> 3.125000</td>\n",
        "      <td> 16.000</td>\n",
        "    </tr>\n",
        "    <tr>\n",
        "      <th>3</th>\n",
        "      <td> G</td>\n",
        "      <td> 4</td>\n",
        "      <td> 0.666667</td>\n",
        "      <td> 20.625</td>\n",
        "    </tr>\n",
        "    <tr>\n",
        "      <th>4</th>\n",
        "      <td> F</td>\n",
        "      <td> 4</td>\n",
        "      <td> 1.250000</td>\n",
        "      <td> 23.875</td>\n",
        "    </tr>\n",
        "  </tbody>\n",
        "</table>\n",
        "<p>5 rows \u00d7 4 columns</p>\n",
        "</div>"
       ],
       "metadata": {},
       "output_type": "pyout",
       "prompt_number": 3,
       "text": [
        "  Note/Rest  Octave       Len  Offset\n",
        "0         B       3  0.500000  12.625\n",
        "1         A       5  0.250000  15.000\n",
        "2         F       4  3.125000  16.000\n",
        "3         G       4  0.666667  20.625\n",
        "4         F       4  1.250000  23.875\n",
        "\n",
        "[5 rows x 4 columns]"
       ]
      }
     ],
     "prompt_number": 3
    },
    {
     "cell_type": "markdown",
     "metadata": {},
     "source": [
      "Pull the function from 9. to generate an altered scale for a given note. This is important for updating the bitwise vectors for the BernoulliRBM input. The altered scalee s are hard-coded, which means that they're immutable. Also, they only go from octave 3 through octave six, wrapping around so all possible notes for a given altered scale will be included."
     ]
    },
    {
     "cell_type": "code",
     "collapsed": false,
     "input": [
      "# Generates the altered scale from octaves 3 to 6 for a pitch (e.g. G-)\n",
      "# for a given note (e.g. G-3) in music21 style.\n",
      "# Returns altered scale as list of music21 notes.\n",
      "def genAltered(note='C3'):\n",
      "    # In case you have to convert a note (e.g. F#) into form below\n",
      "    def convertSharps(note):\n",
      "        pitch = ''.join([i for i in note if i.isdigit() is False])\n",
      "        enharmonic = {\"C#\" : \"D-\", \"D#\" : \"E-\", \"E#\" : \"F\", \"F#\" : \"G-\", \"G#\" : \"A-\", \"A#\" : \"B-\", \"B#\" : \"C\"}\n",
      "        if '#' in pitch: return enharmonic[pitch]\n",
      "        return pitch\n",
      "    \n",
      "    # Get scale with dictionary. For example: allscales[note[:-1]]\n",
      "    allscales = {\n",
      "        \"C\"  : [\"C3\", \"D-3\", \"E-3\", \"E3\", \"G-3\", \"A-3\", \"B-3\", \n",
      "               \"C4\", \"D-4\", \"E-4\", \"E4\", \"G-4\", \"A-4\", \"B-4\", \n",
      "               \"C5\", \"D-5\", \"E-5\", \"E5\", \"G-5\", \"A-5\", \"B-5\", \n",
      "               \"C6\", \"D-6\", \"E-6\", \"E6\", \"G-6\", \"A-6\", \"B-6\"],\n",
      "        \"D-\" : [\"D-3\", \"D3\", \"E3\", \"F3\", \"G3\", \"A3\", \"B3\", \n",
      "               \"D-4\", \"D4\", \"E4\", \"F4\", \"G4\", \"A4\", \"B4\", \n",
      "               \"D-5\", \"D5\", \"E5\", \"F5\", \"G5\", \"A5\", \"B5\", \n",
      "               \"D-6\", \"D6\", \"E6\", \"F6\", \"G6\", \"A6\", \"B6\"],\n",
      "        \"D\"  : [\"D3\", \"E-3\", \"F3\", \"G-3\", \"A-3\", \"B-3\", \"C4\", \"D4\",\n",
      "                \"E-4\", \"F4\", \"G-4\", \"A-4\", \"B-4\", \"C5\", \"D5\",\n",
      "                \"E-5\", \"F5\", \"G-5\", \"A-5\", \"B-5\", \"C6\", \"D6\",\n",
      "                \"E-6\", \"F6\", \"G-6\", \"A-6\", \"B-6\"],\n",
      "        \"E-\" : [\"D-3\",\n",
      "                \"E-3\", \"E3\", \"G-3\", \"G3\", \"A3\", \"B3\", \"D-4\",\n",
      "                \"E-4\", \"E4\", \"G-4\", \"G4\", \"A4\", \"B4\", \"D-5\",\n",
      "                \"E-5\", \"E5\", \"G-5\", \"G5\", \"A5\", \"B5\", \"D-6\",\n",
      "                \"E-6\", \"E6\", \"G-6\", \"G6\", \"A6\", \"B6\"],\n",
      "        \"E\"  : [\"C3\", \"D3\", \"E3\", \"F3\", \"G3\", \"A-3\", \"B-3\", \"C4\", \"D4\",\n",
      "                \"E4\", \"F4\", \"G4\", \"A-4\", \"B-4\", \"C5\", \"D5\",\n",
      "                \"E5\", \"F5\", \"G5\", \"A-5\", \"B-5\", \"C6\", \"D6\",\n",
      "                \"E6\", \"F6\", \"G6\", \"A-6\", \"B-6\"],\n",
      "        \"F\"  : [\"D-3\", \"E-3\",\n",
      "                \"F3\", \"G-3\", \"A-3\", \"A3\", \"B3\", \"D-4\", \"E-4\",\n",
      "                \"F4\", \"G-4\", \"A-4\", \"A4\", \"B4\", \"D-5\", \"E-5\",\n",
      "                \"F5\", \"G-5\", \"A-5\", \"A5\", \"B5\", \"D-6\", \"E-6\",\n",
      "                \"F6\", \"G-6\", \"A-6\", \"A6\", \"B6\"],\n",
      "        \"G-\" : [\"C3\", \"D3\", \"E3\",\n",
      "                \"G-3\", \"G3\", \"A3\", \"B-3\", \"C4\", \"D4\", \"E4\",\n",
      "                \"G-4\", \"G4\", \"A4\", \"B-4\", \"C5\", \"D5\", \"E5\",\n",
      "                \"G-5\", \"G5\", \"A5\", \"B-5\", \"C6\", \"D6\", \"E6\",\n",
      "                \"G-6\", \"G6\", \"A6\", \"B-6\"],\n",
      "        \"G\"  : [\"D-3\", \"E-3\", \"F3\",\n",
      "                \"G3\", \"A-3\", \"B-3\", \"B3\", \"D-4\", \"E-4\", \"F4\",\n",
      "                \"G4\", \"A-4\", \"B-4\", \"B4\", \"D-5\", \"E-5\", \"F5\",\n",
      "                \"G5\", \"A-5\", \"B-5\", \"B5\", \"D-6\", \"E-6\", \"F6\",\n",
      "                \"G6\", \"A-6\", \"B-6\", \"B6\"],\n",
      "        \"A-\" : [\"C3\", \"D3\", \"E3\", \"G-3\",\n",
      "                \"A-3\", \"A3\", \"B3\", \"C4\", \"D4\", \"E4\", \"G-4\",\n",
      "                \"A-4\", \"A4\", \"B4\", \"C5\", \"D5\", \"E5\", \"G-5\",\n",
      "                \"A-5\", \"A5\", \"B5\", \"C6\", \"D6\", \"E6\", \"G-6\",\n",
      "                \"A-6\", \"A6\", \"B6\"],\n",
      "        \"A\"  : [\"C3\", \"D-3\", \"E-3\", \"F3\", \"G3\",\n",
      "                \"A3\", \"B-3\", \"C4\", \"D-4\", \"E-4\", \"F4\", \"G4\",\n",
      "                \"A4\", \"B-4\", \"C5\", \"D-5\", \"E-5\", \"F5\", \"G5\",\n",
      "                \"A5\", \"B-5\", \"C6\", \"D-6\", \"E-6\", \"F6\", \"G6\",\n",
      "                \"A6\", \"B-6\", \"C7\"],\n",
      "        \"B-\" : [\"D-3\", \"D3\", \"E3\", \"G-3\", \"A-3\",\n",
      "                \"B-3\", \"B3\", \"D-4\", \"D4\", \"E4\", \"G-4\", \"A-4\",\n",
      "                \"B-4\", \"B4\", \"D-5\", \"D5\", \"E5\", \"G-5\", \"A-5\",\n",
      "                \"B-5\", \"B5\", \"D-6\", \"D6\", \"E6\", \"G-6\", \"A-6\",\n",
      "                \"B-6\", \"B6\"],\n",
      "        \"B\"  : [\"C3\", \"D3\", \"E-3\", \"F3\", \"G3\", \"A3\",\n",
      "                \"B3\", \"C4\", \"D4\", \"E-4\", \"F4\", \"G4\", \"A4\",\n",
      "                \"B4\", \"C5\", \"D5\", \"E-5\", \"F5\", \"G5\", \"A5\",\n",
      "                \"B5\", \"C6\", \"D6\", \"E-6\", \"F6\", \"G6\", \"A6\",\n",
      "                \"B6\"]}\n",
      "    pitch = ''.join([i for i in note if i.isdigit() is False])\n",
      "    pitch = convertSharps(note) # Rm. octaveinfo, eg. G-5 --> G-, G5->G\n",
      "    return allscales[pitch]"
     ],
     "language": "python",
     "metadata": {},
     "outputs": [],
     "prompt_number": 4
    },
    {
     "cell_type": "markdown",
     "metadata": {},
     "source": [
      "Now, let's do the bitwise arrays! For updating and using the bitwise arrays:\n",
      "\n",
      "1. First, you should populate the bitwise array (i.e. \"turn on\" the notes) with the notes that are actually in the given chord, with all octaves. This simply means setting those notes to equal 1 or 0.\n",
      "2. Second, for a given chord, you want to predict which altered scale it belongs best to. To do this (performance doesn't matter since you'll be cPickling this anyway), generate the altered scales for each of the notes in the chord, and find which notes \"overlap\" between those multiple generated scales the most, and turn those on. For example, you may find for C major you get the C, E, and G altered scales. Find, say, up to 8 notes that appear in >1 of these altered scales (i.e. \"overlapping\" notes), and flip the bits in the vector accordingly. If you're like to create more training data, you can randomize this by picking k random notes from the overlapping notes."
     ]
    },
    {
     "cell_type": "code",
     "collapsed": false,
     "input": [
      "# Given a MUSIC21 note, such as C5 or D#7, convert it\n",
      "# into a note on the keyboard between 0 and 87 inclusive.\n",
      "# Don't convert it for mingus; try to use music21 note style\n",
      "# as much as possible for all this stuff.\n",
      "def quantify(note):\n",
      "    notevals = {\n",
      "        'C' : 0,\n",
      "        'D' : 2,\n",
      "        'E' : 4,\n",
      "        'F' : 5,\n",
      "        'G' : 7,\n",
      "        'A' : 9,\n",
      "        'B' : 11\n",
      "    }\n",
      "    quantized = 0\n",
      "    octave = int(note[-1]) - 1\n",
      "    for i in note[:-1]:\n",
      "        if i in notevals: quantized += notevals[i]\n",
      "        if i == '-': quantized -= 1\n",
      "        if i == '#': quantized += 1\n",
      "    quantized += 12 * octave\n",
      "    return quantized\n",
      "\n",
      "# Create bitwise note vectors for use with Restricted Boltzmann Machine.\n",
      "vectors = np.zeros((1, 88))\n",
      "for ix, note in enumerate(allnotes):\n",
      "    vect = np.zeros((1, 88))\n",
      "    vect[0, quantify(note)] = 1\n",
      "    if ix == 0:\n",
      "        vectors = vect\n",
      "    else:\n",
      "        vectors = np.vstack((vectors, vect))\n",
      "print vectors.shape"
     ],
     "language": "python",
     "metadata": {},
     "outputs": [
      {
       "output_type": "stream",
       "stream": "stdout",
       "text": [
        "(1344, 88)\n"
       ]
      }
     ],
     "prompt_number": 5
    },
    {
     "cell_type": "markdown",
     "metadata": {},
     "source": [
      "See notes on what you should actually do.\n",
      "\n",
      "1. Annotate Oscar's chord data so you have a notes vector for each chord listing the notes that go well with it.\n",
      "2. Move onto each cluster; for each cluster, build a vector covering all of its notes.\n",
      "3. You need a training and a test set, so create those from Oscar's data somehow.\n",
      "4. Find a good classifier to use with this. It might be stacked RBMs, or it might not! Use whatever tool is best for the job.\n",
      "\n",
      "Step 1: build the vocabulary of possible notes (e.g. note vectors with # of notes >= 1) for the class labels (each chord's unique id)."
     ]
    },
    {
     "cell_type": "code",
     "collapsed": false,
     "input": [
      "\"\"\" Hard-code altered scales right below for genChordNotes(). \"\"\"\n",
      "\n",
      "# Convert mingus note back to music21 note. WORKS\n",
      "def unmingify(note):\n",
      "    return note.replace('-','').replace('b','-')\n",
      "    \n",
      "# Given a list of mingus notes (i.e. a chord), say ['A-2', 'A-3', 'E-3'],\n",
      "# Takes a chord (i.e. a list of notes) and returns a bitwise notevector with possible notes to go along with it.\n",
      "# Idea: what if just generate notewise vector with exact same pitches? Indepedence assumption?\n",
      "def genChordNotes(chord):\n",
      "    chord = [unmingify(note) for note in chord] # really important to unmingify notes.\n",
      "    notevect = np.zeros((1, 88))\n",
      "    \n",
      "    # populate with initial pitches\n",
      "    for note in chord:\n",
      "        notevect[0, quantify(note)] = 1\n",
      "        \n",
      "    # add initial pitches transposed to other octaves\n",
      "    otheroctaves = range(3, 6)\n",
      "    for note in chord:\n",
      "        notebase = note[:-1]\n",
      "        for octv in otheroctaves:\n",
      "            put = bool(random.getrandbits(1)) # randomize other pitches\n",
      "            if put is True:\n",
      "                translated = \"%s%s\" % (notebase, octv)\n",
      "                notevect[0, quantify(translated)] = 1\n",
      "    \n",
      "    # Add altered scale that contains most # of notes from chord notes\n",
      "    # e.g. if chord = [e5, g5, b5] then want altered scale with as many of\n",
      "    # those notes as possible. This lets you expand past simply\n",
      "    # the notes already in that chord. Encode the notes of the altered\n",
      "    # scale into the bitwise vector as with the initial pitches.\n",
      "#     altfreqs = defaultdict(int)\n",
      "#     for note in chord:\n",
      "#         for i in genAltered(note):\n",
      "#             altfreqs[i] += 1\n",
      "#     topnotes = [k for k, v in altfreqs.items() if v > 1] # get notes that overlap > 2 times\n",
      "#     for note in topnotes: # flip bits randomly from this list\n",
      "#         if bool(random.getrandbits(1)):\n",
      "#             notevect[0, quantify(note)] = 1\n",
      "    \n",
      "    # return the vector\n",
      "    return notevect\n",
      "\n",
      "# Create initial arrays (1-40, one for each thing)\n",
      "xdata = np.zeros((1, 88))\n",
      "for chordID, chord in allchords.items():\n",
      "    if chordID == 0:\n",
      "        xdata = genChordNotes(chord)\n",
      "    else:\n",
      "        xdata = np.vstack((xdata, genChordNotes(chord)))\n",
      "ydata = allchords.keys()\n",
      "\n",
      "print \"Before adding random data: \", xdata.shape, len(ydata)\n",
      "\n",
      "# create more randomized data\n",
      "for chordID, chord in allchords.items():\n",
      "    for j in xrange(50): \n",
      "        xdata = np.vstack((xdata, genChordNotes(chord)))\n",
      "        ydata.append(chordID)\n",
      "ydata = np.array(ydata).reshape(-1, )\n",
      "\n",
      "print \"After adding random data: \", xdata.shape, ydata.shape\n",
      "# make sure you have the right # of chords. check with # of items in \"oscarchords\" back in (5)."
     ],
     "language": "python",
     "metadata": {},
     "outputs": [
      {
       "output_type": "stream",
       "stream": "stdout",
       "text": [
        "Before adding random data:  (40, 88) 40\n",
        "After adding random data: "
       ]
      },
      {
       "output_type": "stream",
       "stream": "stdout",
       "text": [
        " (2040, 88) (2040,)\n"
       ]
      }
     ],
     "prompt_number": 6
    },
    {
     "cell_type": "markdown",
     "metadata": {},
     "source": [
      "Now, it's time for some learning! Create a classifier to get a feel of what the training data is (no test) -- you want to get a deep understanding of what note vectors are associated with which class labels. Remember, the only reason you would need to use train/test sets is to test the effectiveness of the classifier - for the actual prediction in The N-Gram Pipeline, you can fit the classifier to the entire dataset."
     ]
    },
    {
     "cell_type": "code",
     "collapsed": false,
     "input": [
      "from sklearn.svm import SVC\n",
      "from sklearn.grid_search import GridSearchCV\n",
      "from sklearn.cross_validation import train_test_split\n",
      "from sklearn import metrics"
     ],
     "language": "python",
     "metadata": {},
     "outputs": [],
     "prompt_number": 8
    },
    {
     "cell_type": "code",
     "collapsed": false,
     "input": [
      "# Create train, test sets\n",
      "xtrain, xtest, ytrain, ytest = train_test_split(xdata, ydata, test_size=0.2, random_state=50)\n",
      "\n",
      "# Use gridsearch to build the classifier. Change verbose GridSearchCV param to True if want progress on the processing.\n",
      "grid_search = GridSearchCV(estimator=SVC(), param_grid={'kernel' : ('linear', 'rbf'), 'C' : np.linspace(0.1, 5.1, 10)}, n_jobs=-2)\n",
      "\n",
      "# Train the classifier\n",
      "grid_search.fit(xtrain, ytrain)\n",
      "\n",
      "# Evaluate the classifier's effectiveness.\n",
      "print \"\\nPredictions for sample of n=10: \"\n",
      "print \"Real values: \", ytest[:20] # verifies you get the class labels, not the problem earlier (only 1-2 of labels)\n",
      "print \"Predicted:   \", grid_search.predict(xtest[:20])\n",
      "print metrics.classification_report(ytest, grid_search.predict(xtest))\n",
      "print \"Best parameters: \", grid_search.best_params_"
     ],
     "language": "python",
     "metadata": {},
     "outputs": []
    },
    {
     "cell_type": "markdown",
     "metadata": {},
     "source": [
      "The final step is to write the classifier to disk, having already trained it on the chord data, so you can use it in the official notebook (6b)."
     ]
    },
    {
     "cell_type": "code",
     "collapsed": false,
     "input": [
      "# save the classifier to disk for use with 6b. The N-Gram Pipeline, Part II.\n",
      "with open('part7clf.pkl', 'wb') as fid:\n",
      "    cPickle.dump(grid_search, fid)"
     ],
     "language": "python",
     "metadata": {},
     "outputs": [],
     "prompt_number": 22
    },
    {
     "cell_type": "code",
     "collapsed": false,
     "input": [
      "# save the defaultdict (intID : chord) to disk for use with 6b. The N-Gram Pipeline, Part II.\n",
      "with open('part7cdict.pkl', 'wb') as fid:\n",
      "    cPickle.dump(allchords, fid)"
     ],
     "language": "python",
     "metadata": {},
     "outputs": [],
     "prompt_number": 23
    },
    {
     "cell_type": "code",
     "collapsed": false,
     "input": [],
     "language": "python",
     "metadata": {},
     "outputs": []
    }
   ],
   "metadata": {}
  }
 ]
}