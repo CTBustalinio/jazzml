{
 "metadata": {
  "name": "",
  "signature": "sha256:e7f6a02679e9977b9f70673aacfacee0a151c23fe97eda109cd26ca335d820f5"
 },
 "nbformat": 3,
 "nbformat_minor": 0,
 "worksheets": [
  {
   "cells": [
    {
     "cell_type": "markdown",
     "metadata": {},
     "source": [
      "Given some chords in a text file like:\n",
      "\n",
      "Chord{....}..., c minor 7, 0.125, 0.800\n",
      "\n",
      "Parse this into an easier form.\n",
      "\n"
     ]
    }
   ],
   "metadata": {}
  }
 ]
}