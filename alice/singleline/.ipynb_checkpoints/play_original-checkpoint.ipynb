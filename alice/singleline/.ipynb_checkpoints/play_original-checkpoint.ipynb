{
 "metadata": {
  "name": "",
  "signature": "sha256:114552064b9240e1915fad5300e0761af43ea7f6073d5076deb398b32084552c"
 },
 "nbformat": 3,
 "nbformat_minor": 0,
 "worksheets": []
}